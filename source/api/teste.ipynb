{
 "cells": [
  {
   "cell_type": "code",
   "execution_count": 9,
   "id": "a6a87d54-9962-4c51-b09c-01ba4bafdcf0",
   "metadata": {},
   "outputs": [],
   "source": [
    "\"\"\"\n",
    "Creator: Ivanovitch Silva\n",
    "Date: 16 April 2022\n",
    "Create API\n",
    "\"\"\"\n",
    "# from typing import Union\n",
    "from pydantic import BaseModel\n",
    "from fastapi.responses import HTMLResponse\n",
    "from fastapi import FastAPI\n",
    "import pandas as pd\n",
    "import joblib\n",
    "import os\n",
    "import wandb\n",
    "from pipeline import FeatureSelector, CategoricalTransformer, NumericalTransformer"
   ]
  },
  {
   "cell_type": "code",
   "execution_count": 8,
   "id": "85b3617b-cce9-411c-83d0-2764e5e7ad30",
   "metadata": {},
   "outputs": [
    {
     "name": "stdout",
     "output_type": "stream",
     "text": [
      "['/Users/ivanovitchsilva/colab2mlops/source/api', '/Users/ivanovitchsilva/opt/anaconda3/envs/colab2deploy/lib/python38.zip', '/Users/ivanovitchsilva/opt/anaconda3/envs/colab2deploy/lib/python3.8', '/Users/ivanovitchsilva/opt/anaconda3/envs/colab2deploy/lib/python3.8/lib-dynload', '', '/Users/ivanovitchsilva/opt/anaconda3/envs/colab2deploy/lib/python3.8/site-packages']\n"
     ]
    }
   ],
   "source": [
    "import sys\n",
    "print(sys.path)"
   ]
  },
  {
   "cell_type": "code",
   "execution_count": 17,
   "id": "617edd31-a16c-4d10-8b39-b149f818ed70",
   "metadata": {
    "tags": []
   },
   "outputs": [],
   "source": [
    "x = sys.modules[\"__main__\"]"
   ]
  },
  {
   "cell_type": "code",
   "execution_count": 23,
   "id": "5fd068e7-2c1c-4276-afd4-cc3c8bdee3b1",
   "metadata": {},
   "outputs": [
    {
     "data": {
      "text/plain": [
       "<module '__main__'>"
      ]
     },
     "execution_count": 23,
     "metadata": {},
     "output_type": "execute_result"
    }
   ],
   "source": [
    "x"
   ]
  },
  {
   "cell_type": "code",
   "execution_count": 10,
   "id": "c0fb43d7-92b7-424a-a61c-5118cb3cedef",
   "metadata": {},
   "outputs": [
    {
     "name": "stderr",
     "output_type": "stream",
     "text": [
      "\u001b[34m\u001b[1mwandb\u001b[0m: Currently logged in as: \u001b[33mivanovitchm\u001b[0m (use `wandb login --relogin` to force relogin)\n"
     ]
    },
    {
     "data": {
      "text/html": [
       "Tracking run with wandb version 0.12.14"
      ],
      "text/plain": [
       "<IPython.core.display.HTML object>"
      ]
     },
     "metadata": {},
     "output_type": "display_data"
    },
    {
     "data": {
      "text/html": [
       "Run data is saved locally in <code>/Users/ivanovitchsilva/colab2mlops/source/api/wandb/run-20220417_192001-21mfym4n</code>"
      ],
      "text/plain": [
       "<IPython.core.display.HTML object>"
      ]
     },
     "metadata": {},
     "output_type": "display_data"
    },
    {
     "data": {
      "text/html": [
       "Syncing run <strong><a href=\"https://wandb.ai/ivanovitchm/decision_tree/runs/21mfym4n\" target=\"_blank\">fallen-plant-53</a></strong> to <a href=\"https://wandb.ai/ivanovitchm/decision_tree\" target=\"_blank\">Weights & Biases</a> (<a href=\"https://wandb.me/run\" target=\"_blank\">docs</a>)<br/>"
      ],
      "text/plain": [
       "<IPython.core.display.HTML object>"
      ]
     },
     "metadata": {},
     "output_type": "display_data"
    }
   ],
   "source": [
    "# global variables\n",
    "\n",
    "# name of the model artifact\n",
    "artifact_model_name = \"decision_tree/model_export:latest\"\n",
    "\n",
    "# initiate the wandb project\n",
    "run = wandb.init(project=\"decision_tree\",job_type=\"api\")\n",
    "\n",
    "person = {\n",
    "                \"age\": 72,\n",
    "                \"workclass\": 'Self-emp-inc',\n",
    "                \"fnlwgt\": 473748,\n",
    "                \"education\": 'Some-college',\n",
    "                \"education_num\": 10,\n",
    "                \"marital_status\": 'Married-civ-spouse',\n",
    "                \"occupation\": 'Exec-managerial',\n",
    "                \"relationship\": 'Husband',\n",
    "                \"race\": 'White',\n",
    "                \"sex\": 'Male',\n",
    "                \"capital_gain\": 0,\n",
    "                \"capital_loss\": 0,\n",
    "                \"hours_per_week\": 25,\n",
    "                \"native_country\": 'United-States'\n",
    "        }"
   ]
  },
  {
   "cell_type": "code",
   "execution_count": 11,
   "id": "e1665808-5ac6-4825-90b9-96b75a056cd3",
   "metadata": {},
   "outputs": [],
   "source": [
    "model_export_path = run.use_artifact(artifact_model_name).file()\n",
    "pipe = joblib.load(model_export_path)"
   ]
  },
  {
   "cell_type": "code",
   "execution_count": 12,
   "id": "36006481-b326-4e94-96b5-648b86d4428c",
   "metadata": {},
   "outputs": [
    {
     "data": {
      "text/plain": [
       "array([0])"
      ]
     },
     "execution_count": 12,
     "metadata": {},
     "output_type": "execute_result"
    }
   ],
   "source": [
    "df = pd.DataFrame([person])\n",
    "\n",
    "# Predict test data\n",
    "predict = pipe.predict(df)\n",
    "\n",
    "predict"
   ]
  },
  {
   "cell_type": "code",
   "execution_count": null,
   "id": "f473e1bf-86f6-4bb3-b63a-35d68007c63e",
   "metadata": {},
   "outputs": [],
   "source": []
  }
 ],
 "metadata": {
  "kernelspec": {
   "display_name": "Python 3 (ipykernel)",
   "language": "python",
   "name": "python3"
  },
  "language_info": {
   "codemirror_mode": {
    "name": "ipython",
    "version": 3
   },
   "file_extension": ".py",
   "mimetype": "text/x-python",
   "name": "python",
   "nbconvert_exporter": "python",
   "pygments_lexer": "ipython3",
   "version": "3.8.13"
  }
 },
 "nbformat": 4,
 "nbformat_minor": 5
}
